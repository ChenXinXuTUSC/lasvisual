{
 "cells": [
  {
   "cell_type": "code",
   "execution_count": 11,
   "metadata": {},
   "outputs": [],
   "source": [
    "import os\n",
    "import numpy as np\n",
    "import open3d as o3d\n",
    "import matplotlib.pyplot as plt\n",
    "import utils\n",
    "import pickle"
   ]
  },
  {
   "cell_type": "code",
   "execution_count": 12,
   "metadata": {},
   "outputs": [],
   "source": [
    "raw_points, raw_colors = utils.las2npy(\"../../dataset/001-010.las\")\n",
    "# rarefaction 体素滤波\n",
    "raw_points = raw_points[::50]\n",
    "raw_colors = raw_colors[::50]\n",
    "voxel_size = 0.1\n",
    "voxels, idx_o2n, idx_n2o, unique_counts = utils.voxel_downsample(raw_points, voxel_size, True)\n",
    "colors = raw_colors[idx_o2n]"
   ]
  },
  {
   "cell_type": "markdown",
   "metadata": {},
   "source": [
    "# Height filtration section"
   ]
  },
  {
   "cell_type": "code",
   "execution_count": 13,
   "metadata": {},
   "outputs": [],
   "source": [
    "# 执行基于高程信息的基础滤波，这种滤波方法不能直接对整个点云集合处理，\n",
    "# 因为输电线路的架设不一定维持在同一海平面，均值滤波需要分成小批次处理\n",
    "start_point = 0\n",
    "march_steop = int(1e4)\n",
    "pivot_list = [] # pivot list\n",
    "stapt_list = [] # start point list\n",
    "\n",
    "boundary = voxels.shape[0]\n",
    "while start_point < boundary:\n",
    "    pivot = utils.get_average_pivot(voxels[start_point:min(start_point + march_steop, boundary), 2])\n",
    "    pivot_list.append(pivot)\n",
    "    stapt_list.append(start_point)\n",
    "    start_point += march_steop\n",
    "\n",
    "height_filter_mask = np.zeros((0, ), dtype=bool)\n",
    "for stapt, pivot in zip(stapt_list, pivot_list):\n",
    "    height_filter_mask = np.concatenate((height_filter_mask, voxels[stapt:min(stapt + march_steop, boundary), 2] > pivot))\n",
    "\n",
    "voxels_filteredby_height = voxels[height_filter_mask]\n",
    "colors_filteredby_height = colors[height_filter_mask]\n",
    "\n",
    "utils.npy2ply(voxels_filteredby_height, colors_filteredby_height, \"./data/pipeline_height_filtration.ply\", use_txt=False)"
   ]
  },
  {
   "cell_type": "markdown",
   "metadata": {},
   "source": [
    "# Power line extraction"
   ]
  },
  {
   "cell_type": "code",
   "execution_count": 14,
   "metadata": {},
   "outputs": [],
   "source": [
    "# 多进程处理子空间坐标几何特征计算\n",
    "from concurrent.futures import ProcessPoolExecutor, as_completed\n",
    "\n",
    "if os.path.exists(\"./data/checkpoint/line_feat_mat.pkl\"):\n",
    "    with open(\"./data/checkpoint/line_feat_mat.pkl\", \"rb\") as f:\n",
    "        line_feat_mat = pickle.load(f)\n",
    "else:\n",
    "    num_workers = 4\n",
    "    batch_size = voxels_filteredby_height.shape[0] // num_workers\n",
    "    line_feat_mat_list = [None] * num_workers\n",
    "    with ProcessPoolExecutor(max_workers=num_workers) as executor:\n",
    "        futures_dict = {\n",
    "            executor.submit(\n",
    "                utils.eigval_radius,\n",
    "                voxels_filteredby_height[i * batch_size : (i + 1) * batch_size],\n",
    "                voxel_size * 75.0\n",
    "            ) : i for i in range(num_workers)\n",
    "        }\n",
    "        for future in as_completed(futures_dict):\n",
    "            feat_mat, _ = future.result()\n",
    "            line_feat_mat_list[futures_dict[future]] = feat_mat\n",
    "    line_feat_mat = np.concatenate(line_feat_mat_list, axis=0)\n",
    "    with open(\"./data/checkpoint/line_feat_mat.pkl\", \"wb\") as f:\n",
    "        pickle.dump(line_feat_mat, f)"
   ]
  },
  {
   "cell_type": "code",
   "execution_count": 15,
   "metadata": {},
   "outputs": [],
   "source": [
    "line_feat_max = np.max(line_feat_mat, axis=0)\n",
    "line_feat_min = np.min(line_feat_mat, axis=0)\n",
    "line_feat_mat = (line_feat_mat - line_feat_min) / line_feat_max * 255.0\n",
    "line_feat_mat = line_feat_mat.astype(np.int32)"
   ]
  },
  {
   "cell_type": "code",
   "execution_count": 16,
   "metadata": {},
   "outputs": [],
   "source": [
    "line_mask = (line_feat_mat[:, 0] > 75) & (line_feat_mat[:, 1] < 40)\n",
    "\n",
    "# 因为使用了多进程分组处理，所以有可能原先分组不能整除刚好分给各个进程\n",
    "# 因此处理后的掩码长度也许和原点云坐标数量不一，需要按照掩码的长度调整\n",
    "voxels_filteredby_height = voxels_filteredby_height[:line_feat_mat.shape[0]]\n",
    "colors_filteredby_height = colors_filteredby_height[:line_feat_mat.shape[0]]\n",
    "\n",
    "# 获取电力线点云\n",
    "voxels_line = voxels_filteredby_height[line_mask]\n",
    "colors_line = colors_filteredby_height[line_mask]\n",
    "utils.npy2ply(voxels_line, colors_line, \"./data/pipeline_line.ply\")"
   ]
  },
  {
   "cell_type": "markdown",
   "metadata": {},
   "source": [
    "# Tower extraction"
   ]
  },
  {
   "cell_type": "code",
   "execution_count": 17,
   "metadata": {},
   "outputs": [],
   "source": [
    "line_excluded_mask = ~line_mask & (line_feat_mat[:, 1] > 75)\n",
    "voxels_line_excluded = voxels_filteredby_height[line_excluded_mask]\n",
    "colors_line_excluded = colors_filteredby_height[line_excluded_mask]\n",
    "utils.npy2ply(voxels_line_excluded, colors_line_excluded, \"./data/pipeline_line_excluded.ply\")"
   ]
  },
  {
   "cell_type": "code",
   "execution_count": 18,
   "metadata": {},
   "outputs": [],
   "source": [
    "if os.path.exists(\"./data/checkpoint/tower_feat_mat.pkl\"):\n",
    "    with open(\"./data/checkpoint/tower_feat_mat.pkl\", \"rb\") as f:\n",
    "        tower_feat_mat = pickle.load(f)\n",
    "else:\n",
    "    num_workers = 4\n",
    "    batch_size = voxels_line_excluded.shape[0] // num_workers\n",
    "    tower_feat_mat_list = [None] * num_workers\n",
    "    from concurrent.futures import ProcessPoolExecutor, as_completed\n",
    "    with ProcessPoolExecutor(max_workers=num_workers) as executor:\n",
    "        futures_dict = {\n",
    "            executor.submit(\n",
    "                utils.eigval_vertic,\n",
    "                voxels_line_excluded[i * batch_size:(i + 1) * batch_size],\n",
    "                voxel_size * 50.0\n",
    "            ) : i for i in range(num_workers)\n",
    "        }\n",
    "\n",
    "        for future in as_completed(futures_dict):\n",
    "            feat_mat, _ = future.result()\n",
    "            tower_feat_mat_list[futures_dict[future]] = feat_mat\n",
    "    tower_feat_mat = np.concatenate(tower_feat_mat_list, axis=0)\n",
    "    with open(\"./data/checkpoint/tower_feat_mat.pkl\", \"wb\") as f:\n",
    "        pickle.dump(tower_feat_mat, f)"
   ]
  },
  {
   "cell_type": "code",
   "execution_count": 19,
   "metadata": {},
   "outputs": [],
   "source": [
    "tower_feat_max = np.max(tower_feat_mat, axis=0)\n",
    "tower_feat_min = np.min(tower_feat_mat, axis=0)\n",
    "tower_feat_mat = (tower_feat_mat - tower_feat_min) / tower_feat_max * 255.0\n",
    "tower_feat_mat = tower_feat_mat.astype(np.int32)\n",
    "\n",
    "half_max_height = np.median(tower_feat_mat[:, 1])\n",
    "tower_mask = \\\n",
    "    (tower_feat_mat[:, 0] > 100) & \\\n",
    "    (tower_feat_mat[:, 1] > half_max_height) & \\\n",
    "    (tower_feat_mat[:, 2] < 25)\n",
    "\n",
    "voxels_line_excluded = voxels_line_excluded[:tower_mask.shape[0]]\n",
    "colors_line_excluded = colors_line_excluded[:tower_mask.shape[0]]\n",
    "\n",
    "voxels_tower = voxels_line_excluded[tower_mask]\n",
    "colors_tower = colors_line_excluded[tower_mask]"
   ]
  },
  {
   "cell_type": "code",
   "execution_count": 20,
   "metadata": {},
   "outputs": [
    {
     "name": "stdout",
     "output_type": "stream",
     "text": [
      "number of clustered towers: 17\n",
      "average tower points num: 4307.944444444444\n",
      "valid labels: [ 0  1  2  5  9 10 13 15 16]\n"
     ]
    }
   ],
   "source": [
    "# denoised 降噪\n",
    "labels = np.array(utils.npy2o3d(voxels_tower).cluster_dbscan(eps=voxel_size * 100.0, min_points=100, print_progress=False))\n",
    "if labels.shape[0] != voxels_tower.shape[0]:\n",
    "    raise ValueError(\"mismatched label num\")\n",
    "\n",
    "print(f\"number of clustered towers: {labels.max() + 1}\")\n",
    "unique_labels, labels_count = np.unique(labels, return_counts=True)\n",
    "print(f\"average tower points num: {labels_count.mean()}\")\n",
    "\n",
    "unique_labels = unique_labels[1:]\n",
    "labels_count = labels_count[1:]\n",
    "label_selection = labels_count > (labels_count.mean() / 2.0)\n",
    "valid_labels = unique_labels[label_selection]\n",
    "\n",
    "print(f\"valid labels: {valid_labels}\")\n",
    "tower_denoised_mask = [(labels == label_idx) for label_idx in valid_labels]\n",
    "tower_denoised_mask = np.logical_or.reduce(\n",
    "    np.vstack(tower_denoised_mask),\n",
    "    axis=0\n",
    ")\n",
    "voxels_tower_denoised = voxels_tower[tower_denoised_mask]\n",
    "colors_tower_denoised = colors_tower[tower_denoised_mask]\n",
    "# valid_instance_selection = []\n",
    "# colors_tower_instanced = colors_tower\n",
    "# for label_idx in valid_labels:\n",
    "#     tower_instance_selection = (labels == label_idx)\n",
    "#     colors_tower_instanced[tower_instance_selection] = np.array([\n",
    "#         np.random.randint(100, 255),\n",
    "#         np.random.randint(100, 255),\n",
    "#         np.random.randint(100, 255)\n",
    "#     ])\n",
    "#     valid_instance_selection.append(tower_instance_selection)\n",
    "\n",
    "# valid_instance_selection = np.logical_or.reduce(\n",
    "#     np.vstack(valid_instance_selection),\n",
    "#     axis=0\n",
    "# )\n",
    "# voxels_tower_instanced = voxels_tower[valid_instance_selection]\n",
    "\n",
    "utils.npy2ply(\n",
    "        voxels_tower_denoised,\n",
    "        colors_tower_denoised,\n",
    "    \"./data/pipeline_tower.ply\"\n",
    ")"
   ]
  },
  {
   "cell_type": "code",
   "execution_count": null,
   "metadata": {},
   "outputs": [],
   "source": []
  }
 ],
 "metadata": {
  "kernelspec": {
   "display_name": "fgd-pointcloud",
   "language": "python",
   "name": "python3"
  },
  "language_info": {
   "codemirror_mode": {
    "name": "ipython",
    "version": 3
   },
   "file_extension": ".py",
   "mimetype": "text/x-python",
   "name": "python",
   "nbconvert_exporter": "python",
   "pygments_lexer": "ipython3",
   "version": "3.9.18"
  },
  "orig_nbformat": 4
 },
 "nbformat": 4,
 "nbformat_minor": 2
}
