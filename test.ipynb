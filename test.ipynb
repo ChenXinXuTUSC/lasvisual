{
 "cells": [
  {
   "cell_type": "code",
   "execution_count": 1,
   "metadata": {},
   "outputs": [
    {
     "name": "stdout",
     "output_type": "stream",
     "text": [
      "Jupyter environment detected. Enabling Open3D WebVisualizer.\n",
      "[Open3D INFO] WebRTC GUI backend enabled.\n",
      "[Open3D INFO] WebRTCWindowSystem: HTTP handshake server disabled.\n"
     ]
    }
   ],
   "source": [
    "import os\n",
    "import os.path as osp\n",
    "\n",
    "import random\n",
    "\n",
    "from tqdm import tqdm\n",
    "\n",
    "import numpy as np\n",
    "\n",
    "import open3d as o3d\n",
    "\n",
    "import utils"
   ]
  },
  {
   "cell_type": "code",
   "execution_count": 2,
   "metadata": {},
   "outputs": [
    {
     "name": "stdout",
     "output_type": "stream",
     "text": [
      "\u001b[1;33m[Open3D WARNING] GLFW Error: X11: The DISPLAY environment variable is missing\u001b[0;m\n",
      "\u001b[1;33m[Open3D WARNING] Failed to initialize GLFW\u001b[0;m\n",
      "\u001b[1;33m[Open3D WARNING] [DrawGeometries] Failed creating OpenGL window.\u001b[0;m\n",
      "max, min: [4.71142875 3.22041954 1.96897121] [-3.35557116 -4.00158058 -1.04102878]\n",
      "before voxelized: 12234\n",
      "max, min: [8.07 7.23 3.01] [0.01 0.01 0.01]\n",
      "after voxelized: 7677\n"
     ]
    }
   ],
   "source": [
    "pcd_path = \"data/kinth/pointcloud/1720509720.141261339.pcd\"\n",
    "pcd = o3d.io.read_point_cloud(pcd_path)\n",
    "# pcd = pcd.voxel_down_sample(voxel_size=0.01)\n",
    "pcd = pcd.remove_radius_outlier(nb_points=25, radius=0.2)[0] # (pcd, new indexed from old)\n",
    "\n",
    "\n",
    "points = np.asarray(pcd.points)\n",
    "points = points - points.mean(axis=0)\n",
    "print(\"max, min:\", points.max(axis=0), points.min(axis=0))\n",
    "print(f\"before voxelized: {len(points)}\")\n",
    "points, _, _, _ = utils.voxel_downsample(points, 0.02, use_avg=False)\n",
    "print(\"max, min:\", points.max(axis=0), points.min(axis=0))\n",
    "print(f\"after voxelized: {len(points)}\")"
   ]
  },
  {
   "cell_type": "code",
   "execution_count": 24,
   "metadata": {},
   "outputs": [
    {
     "name": "stderr",
     "output_type": "stream",
     "text": [
      "100%|████████████████████████████████████████████████████████| 7677/7677 [00:00<00:00, 11847.37it/s]\n"
     ]
    }
   ],
   "source": [
    "radius = 0.15\n",
    "\n",
    "colors = np.ones((len(points), 3), dtype=np.int32) * 75\n",
    "search_tree = o3d.geometry.KDTreeFlann(utils.npy2o3d(points))\n",
    "query_idx_list = (np.random.rand(3) * len(points)).astype(np.int32)\n",
    "for query_idx in tqdm(range(len(points)), total=len(points), ncols=100):\n",
    "    query = points[query_idx]\n",
    "    neighbour_num, neighbour_idx_list, _ = search_tree.search_radius_vector_3d(query, radius)\n",
    "    if neighbour_num <= 3:\n",
    "        continue\n",
    "    eigvals, eigvecs = utils.pca_k(points[neighbour_idx_list], 3)\n",
    "    assert eigvals[0] >= eigvals[1] and eigvals[1] >= eigvals[2]\n",
    "    eigval_ratio = np.array([\n",
    "        (eigvals[0] - eigvals[1]) / (eigvals[0] + 1e-9),\n",
    "        (eigvals[1] - eigvals[2]) / (eigvals[1] + 1e-9),\n",
    "        1e-9\n",
    "    ])\n",
    "    \n",
    "    colors[query_idx] = (eigval_ratio / eigval_ratio.sum() * 255.0).astype(np.int32)\n",
    "\n",
    "utils.npy2ply(points, colors, \"data/output/test.ply\")"
   ]
  },
  {
   "cell_type": "code",
   "execution_count": 4,
   "metadata": {},
   "outputs": [],
   "source": [
    "def search_radius_bf(points: np.ndarray, targets: np.ndarray, inner_radius:float, outer_radius: float):\n",
    "    '''\n",
    "    find neighbours with distance in between the range [exclude, include].\n",
    "    \n",
    "    params:\n",
    "    -\n",
    "    * points (np.ndarray) - all points in the scene\n",
    "    * targets (np.ndarray) - all points to be queried the neighbours\n",
    "    * inner_radius (float) - lower bound of the neighbour range\n",
    "    * outer_radius (float) - upper bound of the neighbour range\n",
    "    \n",
    "    return:\n",
    "    * list(np.ndarray) - list of neighbours of each target\n",
    "    '''\n",
    "    assert inner_radius is not None and outer_radius is not None\n",
    "    \n",
    "    assert points.shape[-1] == targets.shape[-1]\n",
    "    if len(targets.shape) == 1:\n",
    "        targets = np.expand_dims(targets, axis=0)\n",
    "        \n",
    "    result = []\n",
    "    for target in targets:\n",
    "        dist = np.linalg.norm(points - target, axis=1)\n",
    "        mask = (dist >= inner_radius) & (dist <= outer_radius)\n",
    "        result.append(points[mask])\n",
    "    "
   ]
  },
  {
   "cell_type": "code",
   "execution_count": 7,
   "metadata": {},
   "outputs": [
    {
     "name": "stderr",
     "output_type": "stream",
     "text": [
      "100%|████████████████████████████████████████████████████████| 7677/7677 [00:00<00:00, 10986.61it/s]\n"
     ]
    }
   ],
   "source": [
    "def sin_batch(bat1: np.ndarray, bat2: np.ndarray):\n",
    "    cos_batch_result = utils.cos_batch(bat1, bat2)\n",
    "    assert not np.all(np.isnan(cos_batch_result))\n",
    "    return np.sqrt(1 - cos_batch_result**2)\n",
    "\n",
    "\n",
    "wup = np.array([0, 0, 1])\n",
    "border = 0.5\n",
    "colors = np.ones((len(points), 3), dtype=np.int32) * 50\n",
    "queries = (np.random.rand(3) * len(points)).astype(np.int32)\n",
    "for query_idx in tqdm(range(len(points)), total=len(points), ncols=100):\n",
    "    query = points[query_idx]\n",
    "    # mask = (np.abs(points - query) < border / 2.0).astype(np.int32).sum(axis=1) == 3\n",
    "    mask = (\n",
    "        (np.abs(points[:, 0] - query[0]) < border / 2.0) &\n",
    "        (np.abs(points[:, 1] - query[1]) < border / 2.0) &\n",
    "        (np.abs(points[:, 2] - query[2]) < border)\n",
    "    )\n",
    "    mask[query_idx] = False\n",
    "    vicinity = points[mask]\n",
    "    if len(vicinity) < 3:\n",
    "        continue\n",
    "    feat = (1.0 - sin_batch(points[mask] - query, wup)).mean()\n",
    "    colors[query_idx] = int(feat * 255.0)\n",
    "\n",
    "utils.npy2ply(points, colors, \"test.ply\")"
   ]
  },
  {
   "cell_type": "code",
   "execution_count": 5,
   "metadata": {},
   "outputs": [
    {
     "name": "stdout",
     "output_type": "stream",
     "text": [
      "[0. 1. 0.]\n"
     ]
    },
    {
     "name": "stderr",
     "output_type": "stream",
     "text": [
      "/tmp/ipykernel_3213199/1020614606.py:6: RuntimeWarning: divide by zero encountered in divide\n",
      "  c = a / b\n",
      "/tmp/ipykernel_3213199/1020614606.py:6: RuntimeWarning: invalid value encountered in divide\n",
      "  c = a / b\n"
     ]
    }
   ],
   "source": [
    "import numpy as np\n",
    "\n",
    "a = np.array([0, 1, 0])\n",
    "b = np.array([0, 0, 1])\n",
    "\n",
    "c = a / b\n",
    "c = np.nan_to_num(c, nan=0, posinf=1, neginf=-1)\n",
    "\n",
    "print(c)"
   ]
  }
 ],
 "metadata": {
  "kernelspec": {
   "display_name": "fgd-pointcloud",
   "language": "python",
   "name": "python3"
  },
  "language_info": {
   "codemirror_mode": {
    "name": "ipython",
    "version": 3
   },
   "file_extension": ".py",
   "mimetype": "text/x-python",
   "name": "python",
   "nbconvert_exporter": "python",
   "pygments_lexer": "ipython3",
   "version": "3.9.18"
  }
 },
 "nbformat": 4,
 "nbformat_minor": 2
}
