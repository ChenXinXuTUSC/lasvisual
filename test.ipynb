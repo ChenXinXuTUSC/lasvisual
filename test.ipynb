{
 "cells": [
  {
   "cell_type": "code",
   "execution_count": 1,
   "metadata": {},
   "outputs": [
    {
     "name": "stdout",
     "output_type": "stream",
     "text": [
      "Jupyter environment detected. Enabling Open3D WebVisualizer.\n",
      "[Open3D INFO] WebRTC GUI backend enabled.\n",
      "[Open3D INFO] WebRTCWindowSystem: HTTP handshake server disabled.\n"
     ]
    }
   ],
   "source": [
    "import os\n",
    "import os.path as osp\n",
    "\n",
    "import random\n",
    "\n",
    "from tqdm import tqdm\n",
    "\n",
    "import numpy as np\n",
    "\n",
    "import open3d as o3d\n",
    "import plyfile\n",
    "\n",
    "import utils"
   ]
  },
  {
   "cell_type": "code",
   "execution_count": 1,
   "metadata": {},
   "outputs": [],
   "source": [
    "import numpy as np\n",
    "from plyfile import PlyData, PlyElement\n",
    "\n",
    "def npy2ply(points: np.ndarray, colors: np.ndarray):\n",
    "    ply_points = np.empty(points.shape, dtype=[('x', 'f4'), ('y', 'f4'), ('z', 'f4')])\n",
    "    ply_points['x'] = points[:, 0]\n",
    "    ply_points['y'] = points[:, 1]\n",
    "    ply_points['z'] = points[:, 2]\n",
    "\n",
    "# 示例数据：假设有5个点和2条线段\n",
    "points = np.array([\n",
    "    (0, 0, 0),\n",
    "    (1, 0, 0),\n",
    "    (0, 1, 0),\n",
    "    (0, 0, 1),\n",
    "    (1, 1, 1)\n",
    "], dtype=[('x', 'f4'), ('y', 'f4'), ('z', 'f4')])\n",
    "\n",
    "lines = np.array([\n",
    "    (0, 1),\n",
    "    (2, 3)\n",
    "], dtype=[('vertex1', 'u4'), ('vertex2', 'u4')])\n",
    "\n",
    "vertices = PlyElement.describe(points, 'vertex')\n",
    "edges = PlyElement.describe(lines, 'edge')\n",
    "\n",
    "elements = [vertices, edges]\n",
    "\n",
    "ply_data = PlyData(elements, text=True)\n",
    "ply_data.write('output_with_edges.ply')\n"
   ]
  },
  {
   "cell_type": "code",
   "execution_count": 35,
   "metadata": {},
   "outputs": [],
   "source": [
    "def join_struct_arrays(arrays):\n",
    "    sizes = np.array([a.itemsize for a in arrays if a is not None]) # 每个结构化张量中单个元素数据字节数\n",
    "    offsets = np.r_[0, sizes.cumsum()] # 合并每个结构化张量后单个元素数据字节数序列\n",
    "    n = len(arrays[0]) # 要求拼接的多个张量具有相同数量的元素数量，这是水平拼接\n",
    "    joint = np.empty((n, offsets[-1]), dtype=np.uint8)\n",
    "    for a, size, offset in zip(arrays, sizes, offsets):\n",
    "        joint[:,offset:offset+size] = a.view(np.uint8).reshape(n,size)\n",
    "    dtype = sum((a.dtype.descr for a in arrays if a is not None), [])\n",
    "    return joint.ravel().view(dtype)\n",
    "\n",
    "\n",
    "# 定义点云数据\n",
    "points = np.array([\n",
    "    (0.0, 0.0, 0.0),  # 点1的坐标\n",
    "    (1.0, 0.0, 0.0),  # 点2的坐标\n",
    "    (1.0, 1.0, 0.0),  # 点3的坐标\n",
    "    (0.0, 1.0, 0.0)   # 点4的坐标\n",
    "], dtype=[('x', 'f4'), ('y', 'f4'), ('z', 'f4')])\n",
    "\n",
    "colors = np.array([\n",
    "    (255, 0, 0),    # 点1的颜色 (红色)\n",
    "    (0, 255, 0),    # 点2的颜色 (绿色)\n",
    "    (0, 0, 255),    # 点3的颜色 (蓝色)\n",
    "    (255, 255, 0)   # 点4的颜色 (黄色)\n",
    "], dtype=[('red', 'u1'), ('green', 'u1'), ('blue', 'u1')])\n",
    "\n",
    "ply_vtx = PlyElement.describe(join_struct_arrays([points, colors]), \"vertex\")\n",
    "\n",
    "plydata = PlyData([ply_vtx], text=False)\n",
    "# 将 PlyData 对象写入 PLY 文件\n",
    "plydata.write('colored_pointcloud.ply')"
   ]
  },
  {
   "cell_type": "code",
   "execution_count": 36,
   "metadata": {},
   "outputs": [],
   "source": [
    "points = np.random.rand(100, 3)\n",
    "colors = (np.random.rand(100, 3) * 255.0).astype(np.int32)\n",
    "\n",
    "points = np.core.records.fromarrays(points.transpose(), dtype=[('x', 'f4'), ('y', 'f4'), ('z', 'f4')])\n",
    "colors = np.core.records.fromarrays(colors.transpose(), dtype=[('red', 'u1'), ('green', 'u1'), ('blue', 'u1')])\n",
    "\n",
    "ply_vtx = PlyElement.describe(join_struct_arrays([points, colors]), \"vertex\")\n",
    "\n",
    "plydata = PlyData([ply_vtx], text=False)\n",
    "# 将 PlyData 对象写入 PLY 文件\n",
    "plydata.write('colored_pointcloud.ply')"
   ]
  }
 ],
 "metadata": {
  "kernelspec": {
   "display_name": "fgd-pointcloud",
   "language": "python",
   "name": "python3"
  },
  "language_info": {
   "codemirror_mode": {
    "name": "ipython",
    "version": 3
   },
   "file_extension": ".py",
   "mimetype": "text/x-python",
   "name": "python",
   "nbconvert_exporter": "python",
   "pygments_lexer": "ipython3",
   "version": "3.9.18"
  }
 },
 "nbformat": 4,
 "nbformat_minor": 2
}
