{
 "cells": [
  {
   "cell_type": "code",
   "execution_count": 1,
   "metadata": {},
   "outputs": [
    {
     "name": "stdout",
     "output_type": "stream",
     "text": [
      "Jupyter environment detected. Enabling Open3D WebVisualizer.\n",
      "[Open3D INFO] WebRTC GUI backend enabled.\n",
      "[Open3D INFO] WebRTCWindowSystem: HTTP handshake server disabled.\n"
     ]
    }
   ],
   "source": [
    "import os\n",
    "import os.path as osp\n",
    "\n",
    "import numpy as np\n",
    "\n",
    "import open3d as o3d\n",
    "\n",
    "import utils"
   ]
  },
  {
   "cell_type": "code",
   "execution_count": 2,
   "metadata": {},
   "outputs": [
    {
     "name": "stdout",
     "output_type": "stream",
     "text": [
      "max, min: [2.95497558 2.56843204 2.21088221] [-3.28902462 -3.96956807 -0.72011782]\n",
      "before voxelized: 9303\n",
      "max, min: [6.2475 6.5325 2.9325] [0.0075 0.0075 0.0075]\n",
      "after voxelized: 5410\n"
     ]
    }
   ],
   "source": [
    "pcd_path = \"data/kinth/pointcloud/1720509720.141261339.pcd\"\n",
    "pcd = o3d.io.read_point_cloud(pcd_path)\n",
    "# pcd = pcd.voxel_down_sample(voxel_size=0.01)\n",
    "pcd = pcd.remove_radius_outlier(nb_points=40, radius=0.2)[0] # (pcd, new indexed from old)\n",
    "\n",
    "points = np.asarray(pcd.points)\n",
    "points = points - points.mean(axis=0)\n",
    "print(\"max, min:\", points.max(axis=0), points.min(axis=0))\n",
    "print(f\"before voxelized: {len(points)}\")\n",
    "points, _, _, _ = utils.voxel_downsample(points, 0.015, use_avg=False)\n",
    "print(\"max, min:\", points.max(axis=0), points.min(axis=0))\n",
    "print(f\"after voxelized: {len(points)}\")"
   ]
  },
  {
   "cell_type": "markdown",
   "metadata": {},
   "source": [
    "# height filtration"
   ]
  },
  {
   "cell_type": "code",
   "execution_count": 3,
   "metadata": {},
   "outputs": [],
   "source": [
    "pivot = utils.get_average_pivot(points[:, 2])\n",
    "points = points[points[:, 2] < pivot * 1.75]"
   ]
  },
  {
   "cell_type": "markdown",
   "metadata": {},
   "source": [
    "# covariance rad feature"
   ]
  },
  {
   "cell_type": "code",
   "execution_count": 4,
   "metadata": {},
   "outputs": [
    {
     "name": "stderr",
     "output_type": "stream",
     "text": [
      "eigval progress: 100%|████████████████████████████████████████| 1171/1171 [00:00<00:00, 2915.94it/s]\n",
      "eigval progress: 100%|████████████████████████████████████████| 1169/1169 [00:00<00:00, 2764.71it/s]\n",
      "eigval progress: 100%|████████████████████████████████████████| 1171/1171 [00:00<00:00, 2422.86it/s]\n",
      "eigval progress: 100%|████████████████████████████████████████| 1171/1171 [00:00<00:00, 2354.43it/s]\n"
     ]
    },
    {
     "name": "stdout",
     "output_type": "stream",
     "text": [
      "0\n",
      "0\n",
      "0\n",
      "0\n"
     ]
    }
   ],
   "source": [
    "from concurrent.futures import ProcessPoolExecutor, as_completed\n",
    "import pickle\n",
    "\n",
    "search_radius = 3\n",
    "feat_rad_list = None\n",
    "feat_rad_list_dump_file = f\"data/kinth/pickle/feat_rad_{search_radius:.2f}_{osp.basename(pcd_path).split('.')[0]}.pkl\"\n",
    "\n",
    "# if osp.exists(feat_rad_list_dump_file):\n",
    "#     with open(feat_rad_list_dump_file, \"rb\") as f:\n",
    "#         feat_rad_list = pickle.load(f)\n",
    "# else:\n",
    "    # 多进程处理子空间坐标几何特征计算\n",
    "num_worker = 4\n",
    "batch_size = (len(points) - 1) // num_worker + 1 # round up\n",
    "feat_rad_list_con = [None] * num_worker\n",
    "\n",
    "with ProcessPoolExecutor(max_workers=num_worker) as executor:\n",
    "    future_dict = {\n",
    "        executor.submit(\n",
    "            utils.eigval_radius,\n",
    "            points.copy(),\n",
    "            (i * batch_size, min((i + 1) * batch_size, len(points))),\n",
    "            search_radius\n",
    "        ) : i for i in range(num_worker)\n",
    "    }\n",
    "    for future in as_completed(future_dict):\n",
    "        feat_list, neighbor_num_record = future.result()\n",
    "        feat_rad_list_con[future_dict[future]] = feat_list\n",
    "        print((np.array(neighbor_num_record) < 3).astype(np.int32).sum())\n",
    "feat_rad_list = np.concatenate(feat_rad_list_con, axis=0)\n",
    "    \n",
    "    # if not osp.exists(osp.dirname(feat_rad_list_dump_file)):\n",
    "    #     os.makedirs(osp.dirname(feat_rad_list_dump_file), exist_ok=True)\n",
    "    # with open(feat_rad_list_dump_file, \"wb\") as f:\n",
    "    #     pickle.dump(feat_rad_list, f)"
   ]
  },
  {
   "cell_type": "code",
   "execution_count": 5,
   "metadata": {},
   "outputs": [
    {
     "name": "stdout",
     "output_type": "stream",
     "text": [
      "[[0.36755292 0.43934023 0.        ]\n",
      " [0.33998143 0.48864653 0.        ]\n",
      " [0.36665716 0.44013585 0.        ]\n",
      " ...\n",
      " [0.31730542 0.50342649 0.        ]\n",
      " [0.20831217 0.6469246  0.        ]\n",
      " [0.28273236 0.5836782  0.        ]]\n",
      "[[116 138   0]\n",
      " [104 150   0]\n",
      " [115 139   0]\n",
      " ...\n",
      " [ 98 156   0]\n",
      " [ 62 192   0]\n",
      " [ 83 171   0]]\n"
     ]
    }
   ],
   "source": [
    "print(feat_rad_list)\n",
    "feat_rad_color = feat_rad_list\n",
    "feat_rad_color = feat_rad_color / (feat_rad_color.sum(axis=1).reshape(-1, 1) + 1e-9)\n",
    "feat_rad_color = (feat_rad_color * 255.0).astype(np.int32)\n",
    "print(feat_rad_color)\n"
   ]
  },
  {
   "cell_type": "code",
   "execution_count": 6,
   "metadata": {},
   "outputs": [],
   "source": [
    "utils.npy2ply(points, feat_rad_color, \"data/output/sample_rad.ply\")"
   ]
  },
  {
   "cell_type": "markdown",
   "metadata": {},
   "source": [
    "# covariance vtl feature"
   ]
  },
  {
   "cell_type": "code",
   "execution_count": 7,
   "metadata": {},
   "outputs": [
    {
     "name": "stderr",
     "output_type": "stream",
     "text": [
      "eigval progress: 100%|████████████████████████████████████████| 1171/1171 [00:00<00:00, 5255.96it/s]\n",
      "eigval progress: 100%|████████████████████████████████████████| 1169/1169 [00:00<00:00, 4226.61it/s]\n",
      "eigval progress: 100%|████████████████████████████████████████| 1171/1171 [00:00<00:00, 3624.95it/s]\n",
      "eigval progress: 100%|████████████████████████████████████████| 1171/1171 [00:00<00:00, 3581.91it/s]\n"
     ]
    }
   ],
   "source": [
    "from concurrent.futures import ProcessPoolExecutor, as_completed\n",
    "import pickle\n",
    "\n",
    "search_radius = 2.0\n",
    "feat_vtl_list = None\n",
    "feat_vtl_list_dump_file = f\"data/kinth/pickle/feat_vtl_{search_radius:.2f}_{osp.basename(pcd_path).split('.')[0]}.pkl\"\n",
    "\n",
    "# if osp.exists(feat_vtl_list_dump_file):\n",
    "#     with open(feat_vtl_list_dump_file, \"rb\") as f:\n",
    "#         feat_vtl_list = pickle.load(f)\n",
    "# else:\n",
    "    # 多进程处理子空间坐标几何特征计算\n",
    "num_worker = 4\n",
    "batch_size = (len(points) - 1) // num_worker + 1 # round up\n",
    "feat_vtl_list_con = [None] * num_worker\n",
    "\n",
    "with ProcessPoolExecutor(max_workers=num_worker) as executor:\n",
    "    future_dict = {\n",
    "        executor.submit(\n",
    "            utils.eigval_vertic,\n",
    "            points,\n",
    "            (i * batch_size, min((i + 1) * batch_size, len(points))),\n",
    "            search_radius\n",
    "        ) : i for i in range(num_worker)\n",
    "    }\n",
    "    for future in as_completed(future_dict):\n",
    "        feat_list, _ = future.result()\n",
    "        feat_vtl_list_con[future_dict[future]] = feat_list\n",
    "feat_vtl_list = np.concatenate(feat_vtl_list_con, axis=0)\n",
    "    \n",
    "    # if not osp.exists(osp.dirname(feat_vtl_list_dump_file)):\n",
    "    #     os.makedirs(osp.dirname(feat_vtl_list_dump_file), exist_ok=True)\n",
    "    # with open(feat_vtl_list_dump_file, \"wb\") as f:\n",
    "    #     pickle.dump(feat_vtl_list, f)"
   ]
  },
  {
   "cell_type": "code",
   "execution_count": 8,
   "metadata": {},
   "outputs": [],
   "source": [
    "feat_vtl_color = (feat_vtl_list - feat_vtl_list.min(axis=1).reshape(-1,1) + 1e-3) / (feat_vtl_list.max(axis=1).reshape(-1, 1) + 1e-3)\n",
    "feat_vtl_color = (feat_vtl_color * 255.0).astype(np.int32)"
   ]
  },
  {
   "cell_type": "code",
   "execution_count": 9,
   "metadata": {},
   "outputs": [],
   "source": [
    "utils.npy2ply(points, feat_vtl_color, \"data/output/sample_vtl.ply\")"
   ]
  }
 ],
 "metadata": {
  "kernelspec": {
   "display_name": "fgd-pcd",
   "language": "python",
   "name": "python3"
  },
  "language_info": {
   "codemirror_mode": {
    "name": "ipython",
    "version": 3
   },
   "file_extension": ".py",
   "mimetype": "text/x-python",
   "name": "python",
   "nbconvert_exporter": "python",
   "pygments_lexer": "ipython3",
   "version": "3.9.18"
  }
 },
 "nbformat": 4,
 "nbformat_minor": 2
}
