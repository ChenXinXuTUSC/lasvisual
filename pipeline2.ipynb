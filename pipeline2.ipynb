{
 "cells": [
  {
   "cell_type": "code",
   "execution_count": 25,
   "metadata": {},
   "outputs": [],
   "source": [
    "import os\n",
    "import os.path as osp\n",
    "\n",
    "import numpy as np\n",
    "\n",
    "import open3d as o3d\n",
    "\n",
    "import utils"
   ]
  },
  {
   "cell_type": "code",
   "execution_count": 26,
   "metadata": {},
   "outputs": [
    {
     "name": "stdout",
     "output_type": "stream",
     "text": [
      "max, min: [4.71142875 3.22041954 1.96897121] [-3.35557116 -4.00158058 -1.04102878]\n",
      "before voxelized: 12234\n",
      "max, min: [4.71142875 3.22041954 1.96897121] [-3.35557116 -4.00158058 -1.04102878]\n",
      "after voxelized: 7677\n"
     ]
    }
   ],
   "source": [
    "pcd_path = \"data/kinth/pointcloud/1720509720.141261339.pcd\"\n",
    "pcd = o3d.io.read_point_cloud(pcd_path)\n",
    "# pcd = pcd.voxel_down_sample(voxel_size=0.01)\n",
    "pcd = pcd.remove_radius_outlier(nb_points=25, radius=0.2)[0] # (pcd, new indexed from old)\n",
    "\n",
    "points = np.asarray(pcd.points)\n",
    "points = points - points.mean(axis=0)\n",
    "print(\"max, min:\", points.max(axis=0), points.min(axis=0))\n",
    "print(f\"before voxelized: {len(points)}\")\n",
    "points, _, _, _ = utils.voxel_downsample(points, 0.02, use_avg=True)\n",
    "print(\"max, min:\", points.max(axis=0), points.min(axis=0))\n",
    "print(f\"after voxelized: {len(points)}\")"
   ]
  },
  {
   "cell_type": "markdown",
   "metadata": {},
   "source": [
    "# height filtration"
   ]
  },
  {
   "cell_type": "code",
   "execution_count": 27,
   "metadata": {},
   "outputs": [],
   "source": [
    "# pivot = utils.get_average_pivot(points[:, 2])\n",
    "# points = points[points[:, 2] < pivot * 1.75]"
   ]
  },
  {
   "cell_type": "markdown",
   "metadata": {},
   "source": [
    "# covariance rad feature"
   ]
  },
  {
   "cell_type": "code",
   "execution_count": 28,
   "metadata": {},
   "outputs": [
    {
     "name": "stderr",
     "output_type": "stream",
     "text": [
      "eigval progress: 100%|████████████████████████████████████████| 1917/1917 [00:00<00:00, 4590.82it/s]\n",
      "eigval progress: 100%|████████████████████████████████████████| 1920/1920 [00:00<00:00, 4041.42it/s]\n",
      "eigval progress: 100%|████████████████████████████████████████| 1920/1920 [00:00<00:00, 3220.30it/s]\n"
     ]
    },
    {
     "name": "stdout",
     "output_type": "stream",
     "text": [
      "0\n",
      "0\n",
      "0\n"
     ]
    },
    {
     "name": "stderr",
     "output_type": "stream",
     "text": [
      "eigval progress: 100%|████████████████████████████████████████| 1920/1920 [00:00<00:00, 2997.18it/s]\n"
     ]
    },
    {
     "name": "stdout",
     "output_type": "stream",
     "text": [
      "0\n"
     ]
    }
   ],
   "source": [
    "from concurrent.futures import ProcessPoolExecutor, as_completed\n",
    "import pickle\n",
    "\n",
    "search_radius = 2.5\n",
    "feat_rad_list = None\n",
    "feat_rad_list_dump_file = f\"data/kinth/pickle/feat_rad_{search_radius:.2f}_{osp.basename(pcd_path).split('.')[0]}.pkl\"\n",
    "\n",
    "# if osp.exists(feat_rad_list_dump_file):\n",
    "#     with open(feat_rad_list_dump_file, \"rb\") as f:\n",
    "#         feat_rad_list = pickle.load(f)\n",
    "# else:\n",
    "    # 多进程处理子空间坐标几何特征计算\n",
    "num_worker = 4\n",
    "batch_size = (len(points) - 1) // num_worker + 1 # round up\n",
    "feat_rad_list_con = [None] * num_worker\n",
    "\n",
    "with ProcessPoolExecutor(max_workers=num_worker) as executor:\n",
    "    future_dict = {\n",
    "        executor.submit(\n",
    "            utils.eigval_radius,\n",
    "            points.copy(),\n",
    "            (i * batch_size, min((i + 1) * batch_size, len(points))),\n",
    "            search_radius\n",
    "        ) : i for i in range(num_worker)\n",
    "    }\n",
    "    for future in as_completed(future_dict):\n",
    "        feat_list, neighbor_num_record = future.result()\n",
    "        feat_rad_list_con[future_dict[future]] = feat_list\n",
    "        print(f\"missing:{(np.array(neighbor_num_record) < 3).astype(np.int32).sum()}\")\n",
    "feat_rad_list = np.concatenate(feat_rad_list_con, axis=0)\n",
    "    \n",
    "    # if not osp.exists(osp.dirname(feat_rad_list_dump_file)):\n",
    "    #     os.makedirs(osp.dirname(feat_rad_list_dump_file), exist_ok=True)\n",
    "    # with open(feat_rad_list_dump_file, \"wb\") as f:\n",
    "    #     pickle.dump(feat_rad_list, f)"
   ]
  },
  {
   "cell_type": "code",
   "execution_count": 29,
   "metadata": {},
   "outputs": [
    {
     "name": "stdout",
     "output_type": "stream",
     "text": [
      "[[0.56340054 0.61862606 0.83349234]\n",
      " [0.4146207  0.69369646 0.82069625]\n",
      " [0.68543196 0.59812686 0.87358356]\n",
      " ...\n",
      " [0.29126786 0.96562089 0.97563442]\n",
      " [0.29126786 0.96562089 0.97563442]\n",
      " [0.29126786 0.96562089 0.97563442]]\n",
      "[[ 71  78 105]\n",
      " [ 54  91 108]\n",
      " [ 81  70 103]\n",
      " ...\n",
      " [ 33 110 111]\n",
      " [ 33 110 111]\n",
      " [ 33 110 111]]\n"
     ]
    }
   ],
   "source": [
    "print(feat_rad_list)\n",
    "feat_rad_color = feat_rad_list\n",
    "feat_rad_color = feat_rad_color / (feat_rad_color.sum(axis=1).reshape(-1, 1) + 1e-9)\n",
    "feat_rad_color = (feat_rad_color * 255.0).astype(np.int32)\n",
    "print(feat_rad_color)\n"
   ]
  },
  {
   "cell_type": "code",
   "execution_count": 30,
   "metadata": {},
   "outputs": [],
   "source": [
    "utils.npy2ply(points, feat_rad_color, \"data/output/sample_rad.ply\")"
   ]
  },
  {
   "cell_type": "code",
   "execution_count": 31,
   "metadata": {},
   "outputs": [],
   "source": [
    "# empty slot for staged run"
   ]
  },
  {
   "cell_type": "markdown",
   "metadata": {},
   "source": [
    "# covariance vtl feature"
   ]
  },
  {
   "cell_type": "code",
   "execution_count": 35,
   "metadata": {},
   "outputs": [
    {
     "name": "stderr",
     "output_type": "stream",
     "text": [
      "eigval progress:   0%|                                                     | 0/1917 [00:00<?, ?it/s]"
     ]
    },
    {
     "name": "stderr",
     "output_type": "stream",
     "text": [
      "eigval progress: 100%|████████████████████████████████████████| 1917/1917 [00:00<00:00, 4696.07it/s]\n",
      "eigval progress: 100%|████████████████████████████████████████| 1920/1920 [00:00<00:00, 4159.35it/s]\n",
      "eigval progress: 100%|████████████████████████████████████████| 1920/1920 [00:00<00:00, 3687.56it/s]\n",
      "eigval progress: 100%|████████████████████████████████████████| 1920/1920 [00:00<00:00, 3585.87it/s]\n"
     ]
    },
    {
     "name": "stdout",
     "output_type": "stream",
     "text": [
      "missing: 0\n",
      "missing: 0\n",
      "missing: 0\n",
      "missing: 0\n"
     ]
    }
   ],
   "source": [
    "from concurrent.futures import ProcessPoolExecutor, as_completed\n",
    "import pickle\n",
    "\n",
    "search_radius = 2.0\n",
    "feat_vtl_list = None\n",
    "feat_vtl_list_dump_file = f\"data/kinth/pickle/feat_vtl_{search_radius:.2f}_{osp.basename(pcd_path).split('.')[0]}.pkl\"\n",
    "\n",
    "# if osp.exists(feat_vtl_list_dump_file):\n",
    "#     with open(feat_vtl_list_dump_file, \"rb\") as f:\n",
    "#         feat_vtl_list = pickle.load(f)\n",
    "# else:\n",
    "    # 多进程处理子空间坐标几何特征计算\n",
    "num_worker = 4\n",
    "batch_size = (len(points) - 1) // num_worker + 1 # round up\n",
    "feat_vtl_list_con = [None] * num_worker\n",
    "\n",
    "with ProcessPoolExecutor(max_workers=num_worker) as executor:\n",
    "    future_dict = {\n",
    "        executor.submit(\n",
    "            utils.eigval_vertic,\n",
    "            points,\n",
    "            (i * batch_size, min((i + 1) * batch_size, len(points))),\n",
    "            search_radius\n",
    "        ) : i for i in range(num_worker)\n",
    "    }\n",
    "    for future in as_completed(future_dict):\n",
    "        feat_list, neighbor_num_record = future.result()\n",
    "        print(f\"missing: {(np.array(neighbor_num_record) < 3).astype(np.int32).sum()}\")\n",
    "        feat_vtl_list_con[future_dict[future]] = feat_list\n",
    "feat_vtl_list = np.concatenate(feat_vtl_list_con, axis=0)\n",
    "    \n",
    "    # if not osp.exists(osp.dirname(feat_vtl_list_dump_file)):\n",
    "    #     os.makedirs(osp.dirname(feat_vtl_list_dump_file), exist_ok=True)\n",
    "    # with open(feat_vtl_list_dump_file, \"wb\") as f:\n",
    "    #     pickle.dump(feat_vtl_list, f)"
   ]
  },
  {
   "cell_type": "code",
   "execution_count": 36,
   "metadata": {},
   "outputs": [
    {
     "name": "stdout",
     "output_type": "stream",
     "text": [
      "[[0.80679283 0.06703797 0.58701895]\n",
      " [0.80685799 0.06581422 0.58706786]\n",
      " [0.80663231 0.0700644  0.5868861 ]\n",
      " ...\n",
      " [0.75689113 0.37981457 0.53184275]\n",
      " [0.75910988 0.3609294  0.54173994]\n",
      " [0.75641498 0.40427009 0.51420043]]\n",
      "[[140  11 102]\n",
      " [140  11 102]\n",
      " [140  12 102]\n",
      " ...\n",
      " [115  58  81]\n",
      " [116  55  83]\n",
      " [115  61  78]]\n"
     ]
    }
   ],
   "source": [
    "print(feat_vtl_list)\n",
    "feat_vtl_color = feat_vtl_list\n",
    "feat_vtl_color = feat_vtl_color / (feat_vtl_color.sum(axis=1).reshape(-1, 1) + 1e-9)\n",
    "feat_vtl_color = (feat_vtl_color * 255.0).astype(np.int32)\n",
    "print(feat_vtl_color)"
   ]
  },
  {
   "cell_type": "code",
   "execution_count": 37,
   "metadata": {},
   "outputs": [],
   "source": [
    "utils.npy2ply(points, feat_vtl_color, \"data/output/sample_vtl.ply\")"
   ]
  }
 ],
 "metadata": {
  "kernelspec": {
   "display_name": "fgd-pcd",
   "language": "python",
   "name": "python3"
  },
  "language_info": {
   "codemirror_mode": {
    "name": "ipython",
    "version": 3
   },
   "file_extension": ".py",
   "mimetype": "text/x-python",
   "name": "python",
   "nbconvert_exporter": "python",
   "pygments_lexer": "ipython3",
   "version": "3.9.18"
  }
 },
 "nbformat": 4,
 "nbformat_minor": 2
}
