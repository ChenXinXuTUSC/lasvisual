{
 "cells": [
  {
   "cell_type": "code",
   "execution_count": 1,
   "metadata": {},
   "outputs": [
    {
     "name": "stdout",
     "output_type": "stream",
     "text": [
      "Jupyter environment detected. Enabling Open3D WebVisualizer.\n",
      "[Open3D INFO] WebRTC GUI backend enabled.\n",
      "[Open3D INFO] WebRTCWindowSystem: HTTP handshake server disabled.\n"
     ]
    }
   ],
   "source": [
    "import os\n",
    "import os.path as osp\n",
    "\n",
    "import numpy as np\n",
    "\n",
    "import open3d as o3d\n",
    "\n",
    "import utils"
   ]
  },
  {
   "cell_type": "code",
   "execution_count": 2,
   "metadata": {},
   "outputs": [],
   "source": [
    "pcd_path = \"data/kinth/pointcloud/1720509720.141261339.pcd\"\n",
    "pcd = o3d.io.read_point_cloud(pcd_path)\n",
    "pcd = pcd.voxel_down_sample(voxel_size=0.01)\n",
    "pcd = pcd.remove_radius_outlier(nb_points=10, radius=0.2)[0] # (pcd, new indexed from old)\n",
    "\n",
    "points = np.asarray(pcd.points)\n",
    "colors = np.asarray(pcd.colors)"
   ]
  },
  {
   "cell_type": "code",
   "execution_count": 3,
   "metadata": {},
   "outputs": [
    {
     "name": "stdout",
     "output_type": "stream",
     "text": [
      "(13201, 3)\n",
      "(0, 3)\n"
     ]
    }
   ],
   "source": [
    "print(points.shape)\n",
    "print(colors.shape)"
   ]
  },
  {
   "cell_type": "markdown",
   "metadata": {},
   "source": [
    "# height filtration"
   ]
  },
  {
   "cell_type": "code",
   "execution_count": 4,
   "metadata": {},
   "outputs": [],
   "source": [
    "# pivot = utils.get_average_pivot(points[:, 2])\n",
    "# points = points[points[:, 2] < pivot * 1.5]"
   ]
  },
  {
   "cell_type": "markdown",
   "metadata": {},
   "source": [
    "# covariance feature"
   ]
  },
  {
   "cell_type": "code",
   "execution_count": 5,
   "metadata": {},
   "outputs": [
    {
     "name": "stderr",
     "output_type": "stream",
     "text": [
      "eigval progress: 100%|███████████████████████████████████████| 3301/3301 [00:00<00:00, 15794.03it/s]\n",
      "eigval progress: 100%|███████████████████████████████████████| 3301/3301 [00:00<00:00, 15511.59it/s]\n",
      "eigval progress: 100%|███████████████████████████████████████| 3301/3301 [00:00<00:00, 14617.94it/s]\n",
      "eigval progress: 100%|███████████████████████████████████████| 3298/3298 [00:00<00:00, 14166.27it/s]\n"
     ]
    }
   ],
   "source": [
    "from concurrent.futures import ProcessPoolExecutor, as_completed\n",
    "import pickle\n",
    "\n",
    "feat_list = None\n",
    "feat_list_dump_file = f\"data/kinth/pickle/feat_{osp.basename(pcd_path).split('.')[0]}.pkl\"\n",
    "\n",
    "# if osp.exists(feat_list_dump_file):\n",
    "#     with open(feat_list_dump_file, \"rb\") as f:\n",
    "#         feat_list = pickle.load(f)\n",
    "# else:\n",
    "    # 多进程处理子空间坐标几何特征计算\n",
    "num_worker = 4\n",
    "batch_size = (len(points) - 1) // num_worker + 1 # round up\n",
    "feat_list_con = [None] * num_worker\n",
    "with ProcessPoolExecutor(max_workers=num_worker) as executor:\n",
    "    future_dict = {\n",
    "        executor.submit(\n",
    "            utils.eigval_radius,\n",
    "            points[i * batch_size : min((i + 1) * batch_size, len(points))],\n",
    "            2.0\n",
    "        ) : i for i in range(num_worker)\n",
    "    }\n",
    "    for future in as_completed(future_dict):\n",
    "        feat_list, _ = future.result()\n",
    "        feat_list_con[future_dict[future]] = feat_list\n",
    "feat_list = np.concatenate(feat_list_con, axis=0)\n",
    "    \n",
    "    # with open(feat_list_dump_file, \"wb\") as f:\n",
    "    #     pickle.dump(feat_list, f)"
   ]
  },
  {
   "cell_type": "code",
   "execution_count": 6,
   "metadata": {},
   "outputs": [
    {
     "name": "stdout",
     "output_type": "stream",
     "text": [
      "[[ 15 167   0]\n",
      " [ 15 171   0]\n",
      " [ 21 177   0]\n",
      " ...\n",
      " [108 238   0]\n",
      " [  0 247  51]\n",
      " [ 50 242   0]]\n"
     ]
    }
   ],
   "source": [
    "feat_rgb = (feat_list - feat_list.min(axis=1).reshape(-1,1) + 1e-3) / (feat_list.max(axis=1).reshape(-1, 1) + 1e-3)\n",
    "\n",
    "feat_rgb = (feat_rgb * 255.0).astype(np.int32)\n",
    "print(feat_rgb)"
   ]
  },
  {
   "cell_type": "code",
   "execution_count": 7,
   "metadata": {},
   "outputs": [],
   "source": [
    "utils.npy2ply(points, feat_rgb, \"sample.ply\")"
   ]
  }
 ],
 "metadata": {
  "kernelspec": {
   "display_name": "fgd-pcd",
   "language": "python",
   "name": "python3"
  },
  "language_info": {
   "codemirror_mode": {
    "name": "ipython",
    "version": 3
   },
   "file_extension": ".py",
   "mimetype": "text/x-python",
   "name": "python",
   "nbconvert_exporter": "python",
   "pygments_lexer": "ipython3",
   "version": "3.9.18"
  }
 },
 "nbformat": 4,
 "nbformat_minor": 2
}
